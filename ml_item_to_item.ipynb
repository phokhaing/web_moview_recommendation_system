{
 "cells": [
  {
   "cell_type": "markdown",
   "id": "66ba09c9-3b32-4f9a-8bfd-fd9dc0869c24",
   "metadata": {},
   "source": [
    "# Movie Recommendation System\n",
    "Author: Pho Khaing\n",
    "\n",
    "## Collaborative Filtering\n",
    "#### User-to-User Collaborative Filtering Base on user rating movie\n",
    "- Select a user with the movies the user has watched\n",
    "- Based on his rating to movies, find the top X neighbours\n",
    "- Get the watched movie record of the user for each neighbour.\n",
    "- Calculate a similarity score using some formula\n",
    "- Recommend the items with the highest score\n",
    "- Rated score below 3 (Dislike) and 3,4 or 5 (Like)"
   ]
  },
  {
   "cell_type": "code",
   "execution_count": 1,
   "id": "11228d3b-da3d-4c7c-84f3-02314e50de81",
   "metadata": {},
   "outputs": [],
   "source": [
    "import pandas as pd\n",
    "from scipy import sparse"
   ]
  },
  {
   "cell_type": "markdown",
   "id": "ba318438-9ad2-49b8-90b7-84af189ed52a",
   "metadata": {},
   "source": [
    "### Load Data"
   ]
  },
  {
   "cell_type": "code",
   "execution_count": 2,
   "id": "88c34086-db3b-4ba1-bd0d-0fd1f7b2af2c",
   "metadata": {},
   "outputs": [],
   "source": [
    "rating_df = pd.read_csv('movie_rating.csv')\n",
    "movie_df = pd.read_csv('movies.csv')"
   ]
  },
  {
   "cell_type": "markdown",
   "id": "a6923e37-edb9-4cb2-a7c1-97aa005e514d",
   "metadata": {},
   "source": [
    "### List movie rated"
   ]
  },
  {
   "cell_type": "code",
   "execution_count": 3,
   "id": "82e62d8c-75a4-4a01-b7b0-d8fbd2af0807",
   "metadata": {},
   "outputs": [
    {
     "data": {
      "text/html": [
       "<div>\n",
       "<style scoped>\n",
       "    .dataframe tbody tr th:only-of-type {\n",
       "        vertical-align: middle;\n",
       "    }\n",
       "\n",
       "    .dataframe tbody tr th {\n",
       "        vertical-align: top;\n",
       "    }\n",
       "\n",
       "    .dataframe thead th {\n",
       "        text-align: right;\n",
       "    }\n",
       "</style>\n",
       "<table border=\"1\" class=\"dataframe\">\n",
       "  <thead>\n",
       "    <tr style=\"text-align: right;\">\n",
       "      <th></th>\n",
       "      <th>id</th>\n",
       "      <th>user_id</th>\n",
       "      <th>movie_id</th>\n",
       "      <th>rating</th>\n",
       "    </tr>\n",
       "  </thead>\n",
       "  <tbody>\n",
       "    <tr>\n",
       "      <th>0</th>\n",
       "      <td>270</td>\n",
       "      <td>14</td>\n",
       "      <td>21</td>\n",
       "      <td>5</td>\n",
       "    </tr>\n",
       "    <tr>\n",
       "      <th>1</th>\n",
       "      <td>271</td>\n",
       "      <td>15</td>\n",
       "      <td>21</td>\n",
       "      <td>3</td>\n",
       "    </tr>\n",
       "    <tr>\n",
       "      <th>2</th>\n",
       "      <td>272</td>\n",
       "      <td>15</td>\n",
       "      <td>34</td>\n",
       "      <td>3</td>\n",
       "    </tr>\n",
       "    <tr>\n",
       "      <th>3</th>\n",
       "      <td>273</td>\n",
       "      <td>15</td>\n",
       "      <td>23</td>\n",
       "      <td>5</td>\n",
       "    </tr>\n",
       "    <tr>\n",
       "      <th>4</th>\n",
       "      <td>276</td>\n",
       "      <td>14</td>\n",
       "      <td>23</td>\n",
       "      <td>2</td>\n",
       "    </tr>\n",
       "  </tbody>\n",
       "</table>\n",
       "</div>"
      ],
      "text/plain": [
       "    id  user_id  movie_id  rating\n",
       "0  270       14        21       5\n",
       "1  271       15        21       3\n",
       "2  272       15        34       3\n",
       "3  273       15        23       5\n",
       "4  276       14        23       2"
      ]
     },
     "execution_count": 3,
     "metadata": {},
     "output_type": "execute_result"
    }
   ],
   "source": [
    "rating_df.head()"
   ]
  },
  {
   "cell_type": "markdown",
   "id": "ff6b292c-b612-43df-b2b9-a4d17ceb8cbd",
   "metadata": {},
   "source": [
    "###  All movies"
   ]
  },
  {
   "cell_type": "code",
   "execution_count": 4,
   "id": "3ef51022-cbba-4136-9d2b-fc18ad29474d",
   "metadata": {},
   "outputs": [
    {
     "data": {
      "text/html": [
       "<div>\n",
       "<style scoped>\n",
       "    .dataframe tbody tr th:only-of-type {\n",
       "        vertical-align: middle;\n",
       "    }\n",
       "\n",
       "    .dataframe tbody tr th {\n",
       "        vertical-align: top;\n",
       "    }\n",
       "\n",
       "    .dataframe thead th {\n",
       "        text-align: right;\n",
       "    }\n",
       "</style>\n",
       "<table border=\"1\" class=\"dataframe\">\n",
       "  <thead>\n",
       "    <tr style=\"text-align: right;\">\n",
       "      <th></th>\n",
       "      <th>id</th>\n",
       "      <th>title</th>\n",
       "    </tr>\n",
       "  </thead>\n",
       "  <tbody>\n",
       "    <tr>\n",
       "      <th>0</th>\n",
       "      <td>18</td>\n",
       "      <td>12 Angry Men</td>\n",
       "    </tr>\n",
       "    <tr>\n",
       "      <th>1</th>\n",
       "      <td>19</td>\n",
       "      <td>12 Years a Slave</td>\n",
       "    </tr>\n",
       "    <tr>\n",
       "      <th>2</th>\n",
       "      <td>20</td>\n",
       "      <td>A Beautiful Mind</td>\n",
       "    </tr>\n",
       "    <tr>\n",
       "      <th>3</th>\n",
       "      <td>21</td>\n",
       "      <td>Avatar</td>\n",
       "    </tr>\n",
       "    <tr>\n",
       "      <th>4</th>\n",
       "      <td>22</td>\n",
       "      <td>Avengers: Infinity War</td>\n",
       "    </tr>\n",
       "  </tbody>\n",
       "</table>\n",
       "</div>"
      ],
      "text/plain": [
       "   id                   title\n",
       "0  18            12 Angry Men\n",
       "1  19        12 Years a Slave\n",
       "2  20        A Beautiful Mind\n",
       "3  21                  Avatar\n",
       "4  22  Avengers: Infinity War"
      ]
     },
     "execution_count": 4,
     "metadata": {},
     "output_type": "execute_result"
    }
   ],
   "source": [
    "movie_df = movie_df.drop(['genre','movie_logo'],axis=1) # remove colomn genre, movie_logo\n",
    "movie_df.head()"
   ]
  },
  {
   "cell_type": "markdown",
   "id": "a65d3b15-01d1-4ab2-829d-6d6e52d8832b",
   "metadata": {},
   "source": [
    "### Merge movie_df with rating_df"
   ]
  },
  {
   "cell_type": "code",
   "execution_count": 5,
   "id": "49025fb3-b3f6-426d-8330-8016a64f446d",
   "metadata": {},
   "outputs": [
    {
     "name": "stdout",
     "output_type": "stream",
     "text": [
      "Shape: (7, 6)\n"
     ]
    }
   ],
   "source": [
    "movie_rating_df = rating_df.merge(movie_df,left_on='movie_id', right_on='id')\n",
    "movie_rating_df.head()\n",
    "print('Shape:', movie_rating_df.shape)"
   ]
  },
  {
   "cell_type": "markdown",
   "id": "055d28c3-3f29-41d9-9351-1ebe2c6746e8",
   "metadata": {},
   "source": [
    "### List all user rated on movies as Pivot Table"
   ]
  },
  {
   "cell_type": "code",
   "execution_count": 6,
   "id": "84cbc5bf-de69-4700-a207-308dc68430db",
   "metadata": {},
   "outputs": [
    {
     "data": {
      "text/html": [
       "<div>\n",
       "<style scoped>\n",
       "    .dataframe tbody tr th:only-of-type {\n",
       "        vertical-align: middle;\n",
       "    }\n",
       "\n",
       "    .dataframe tbody tr th {\n",
       "        vertical-align: top;\n",
       "    }\n",
       "\n",
       "    .dataframe thead th {\n",
       "        text-align: right;\n",
       "    }\n",
       "</style>\n",
       "<table border=\"1\" class=\"dataframe\">\n",
       "  <thead>\n",
       "    <tr style=\"text-align: right;\">\n",
       "      <th>movie_id</th>\n",
       "      <th>21</th>\n",
       "      <th>23</th>\n",
       "      <th>24</th>\n",
       "      <th>34</th>\n",
       "      <th>54</th>\n",
       "    </tr>\n",
       "    <tr>\n",
       "      <th>user_id</th>\n",
       "      <th></th>\n",
       "      <th></th>\n",
       "      <th></th>\n",
       "      <th></th>\n",
       "      <th></th>\n",
       "    </tr>\n",
       "  </thead>\n",
       "  <tbody>\n",
       "    <tr>\n",
       "      <th>8</th>\n",
       "      <td>NaN</td>\n",
       "      <td>NaN</td>\n",
       "      <td>2.0</td>\n",
       "      <td>NaN</td>\n",
       "      <td>NaN</td>\n",
       "    </tr>\n",
       "    <tr>\n",
       "      <th>14</th>\n",
       "      <td>5.0</td>\n",
       "      <td>2.0</td>\n",
       "      <td>NaN</td>\n",
       "      <td>NaN</td>\n",
       "      <td>NaN</td>\n",
       "    </tr>\n",
       "    <tr>\n",
       "      <th>15</th>\n",
       "      <td>3.0</td>\n",
       "      <td>5.0</td>\n",
       "      <td>NaN</td>\n",
       "      <td>3.0</td>\n",
       "      <td>NaN</td>\n",
       "    </tr>\n",
       "    <tr>\n",
       "      <th>16</th>\n",
       "      <td>NaN</td>\n",
       "      <td>NaN</td>\n",
       "      <td>NaN</td>\n",
       "      <td>NaN</td>\n",
       "      <td>5.0</td>\n",
       "    </tr>\n",
       "  </tbody>\n",
       "</table>\n",
       "</div>"
      ],
      "text/plain": [
       "movie_id   21   23   24   34   54\n",
       "user_id                          \n",
       "8         NaN  NaN  2.0  NaN  NaN\n",
       "14        5.0  2.0  NaN  NaN  NaN\n",
       "15        3.0  5.0  NaN  3.0  NaN\n",
       "16        NaN  NaN  NaN  NaN  5.0"
      ]
     },
     "execution_count": 6,
     "metadata": {},
     "output_type": "execute_result"
    }
   ],
   "source": [
    "user_rating_df= movie_rating_df.pivot_table(index=['user_id'],columns=['movie_id'],values='rating')\n",
    "user_rating_df.head()"
   ]
  },
  {
   "cell_type": "markdown",
   "id": "da7ebcf8-9a0c-4a53-8a22-351b2751f927",
   "metadata": {},
   "source": [
    "Fill remaining NaN with 0"
   ]
  },
  {
   "cell_type": "code",
   "execution_count": 7,
   "id": "09f1ff86-896b-4faa-9b93-5fc5c0192dd9",
   "metadata": {},
   "outputs": [
    {
     "data": {
      "text/html": [
       "<div>\n",
       "<style scoped>\n",
       "    .dataframe tbody tr th:only-of-type {\n",
       "        vertical-align: middle;\n",
       "    }\n",
       "\n",
       "    .dataframe tbody tr th {\n",
       "        vertical-align: top;\n",
       "    }\n",
       "\n",
       "    .dataframe thead th {\n",
       "        text-align: right;\n",
       "    }\n",
       "</style>\n",
       "<table border=\"1\" class=\"dataframe\">\n",
       "  <thead>\n",
       "    <tr style=\"text-align: right;\">\n",
       "      <th>movie_id</th>\n",
       "      <th>21</th>\n",
       "      <th>23</th>\n",
       "      <th>24</th>\n",
       "      <th>34</th>\n",
       "      <th>54</th>\n",
       "    </tr>\n",
       "    <tr>\n",
       "      <th>user_id</th>\n",
       "      <th></th>\n",
       "      <th></th>\n",
       "      <th></th>\n",
       "      <th></th>\n",
       "      <th></th>\n",
       "    </tr>\n",
       "  </thead>\n",
       "  <tbody>\n",
       "    <tr>\n",
       "      <th>8</th>\n",
       "      <td>0.0</td>\n",
       "      <td>0.0</td>\n",
       "      <td>2.0</td>\n",
       "      <td>0.0</td>\n",
       "      <td>0.0</td>\n",
       "    </tr>\n",
       "    <tr>\n",
       "      <th>14</th>\n",
       "      <td>5.0</td>\n",
       "      <td>2.0</td>\n",
       "      <td>0.0</td>\n",
       "      <td>0.0</td>\n",
       "      <td>0.0</td>\n",
       "    </tr>\n",
       "    <tr>\n",
       "      <th>15</th>\n",
       "      <td>3.0</td>\n",
       "      <td>5.0</td>\n",
       "      <td>0.0</td>\n",
       "      <td>3.0</td>\n",
       "      <td>0.0</td>\n",
       "    </tr>\n",
       "    <tr>\n",
       "      <th>16</th>\n",
       "      <td>0.0</td>\n",
       "      <td>0.0</td>\n",
       "      <td>0.0</td>\n",
       "      <td>0.0</td>\n",
       "      <td>5.0</td>\n",
       "    </tr>\n",
       "  </tbody>\n",
       "</table>\n",
       "</div>"
      ],
      "text/plain": [
       "movie_id   21   23   24   34   54\n",
       "user_id                          \n",
       "8         0.0  0.0  2.0  0.0  0.0\n",
       "14        5.0  2.0  0.0  0.0  0.0\n",
       "15        3.0  5.0  0.0  3.0  0.0\n",
       "16        0.0  0.0  0.0  0.0  5.0"
      ]
     },
     "execution_count": 7,
     "metadata": {},
     "output_type": "execute_result"
    }
   ],
   "source": [
    "user_rating_df = user_rating_df.fillna(0,axis=1)\n",
    "user_rating_df.head()"
   ]
  },
  {
   "cell_type": "markdown",
   "id": "de7475b2-c69b-4e53-b658-5301d3401524",
   "metadata": {},
   "source": [
    "Let's remove movie which have less than 10 who rated it, and fill remaining NaN with 0\n",
    "if we have lots of movie rated, so we show movie's rated over 10 only"
   ]
  },
  {
   "cell_type": "code",
   "execution_count": 8,
   "id": "7b03b551-1dbb-47b8-9f77-d3e4fbe85548",
   "metadata": {},
   "outputs": [],
   "source": [
    "# print(\"Before: \",user_rating_df.shape)\n",
    "\n",
    "# Let's remove movie which have less than 10 who rated it, and fill remaining NaN with 0\n",
    "# user_rating_df = user_rating_df.dropna(thresh=10, axis=1).fillna(0,axis=1)\n",
    "# userRatings.fillna(0, inplace=True)\n",
    "# print(\"After: \",user_rating_df.shape)"
   ]
  },
  {
   "attachments": {
    "d62cacdf-5d0b-457a-828b-86b9e70b3943.PNG": {
     "image/png": "[encoded data removed]"
    }
   },
   "cell_type": "markdown",
   "id": "cd66c049-597f-4692-9069-d951570fe0ad",
   "metadata": {},
   "source": [
    "### Similarity of users to input user\n",
    "Next, we are going to compare all users (not really all !!!) to our specified user and find the one that is most similar.\n",
    "we're going to find out how similar each user is to the input through the Pearson Correlation Coefficient. It is used to measure the strength of a linear association between two variables. The formula for finding this coefficient between sets X and Y with N values can be seen in the image below.\n",
    "\n",
    "Why Pearson Correlation?\n",
    "\n",
    "Pearson correlation is invariant to scaling, i.e. multiplying all elements by a nonzero constant or adding any constant to all elements. For example, if you have two vectors X and Y,then, pearson(X, Y) == pearson(X, 2 * Y + 3). This is a pretty important property in recommendation systems because for example two users might rate two series of items totally different in terms of absolute rates, but they would be similar users (i.e. with similar ideas) with similar rates in various scales .\n",
    "\n",
    "![Capture.PNG](attachment:d62cacdf-5d0b-457a-828b-86b9e70b3943.PNG)\n",
    "\n",
    "We will select a subset of users to iterate through. This limit is imposed because we don't want to waste too much time going through every single user."
   ]
  },
  {
   "cell_type": "code",
   "execution_count": 9,
   "id": "46430a64-6e02-437b-a797-285d92d8643a",
   "metadata": {},
   "outputs": [],
   "source": [
    "### Let's build our Pearson Correlation Similarity Matrix"
   ]
  },
  {
   "cell_type": "code",
   "execution_count": 10,
   "id": "db9ac8cd-59ec-4592-843d-5ec50693db5a",
   "metadata": {},
   "outputs": [
    {
     "name": "stdout",
     "output_type": "stream",
     "text": [
      "Shape: (5, 5)\n"
     ]
    },
    {
     "data": {
      "text/html": [
       "<div>\n",
       "<style scoped>\n",
       "    .dataframe tbody tr th:only-of-type {\n",
       "        vertical-align: middle;\n",
       "    }\n",
       "\n",
       "    .dataframe tbody tr th {\n",
       "        vertical-align: top;\n",
       "    }\n",
       "\n",
       "    .dataframe thead th {\n",
       "        text-align: right;\n",
       "    }\n",
       "</style>\n",
       "<table border=\"1\" class=\"dataframe\">\n",
       "  <thead>\n",
       "    <tr style=\"text-align: right;\">\n",
       "      <th>movie_id</th>\n",
       "      <th>21</th>\n",
       "      <th>23</th>\n",
       "      <th>24</th>\n",
       "      <th>34</th>\n",
       "      <th>54</th>\n",
       "    </tr>\n",
       "    <tr>\n",
       "      <th>movie_id</th>\n",
       "      <th></th>\n",
       "      <th></th>\n",
       "      <th></th>\n",
       "      <th></th>\n",
       "      <th></th>\n",
       "    </tr>\n",
       "  </thead>\n",
       "  <tbody>\n",
       "    <tr>\n",
       "      <th>21</th>\n",
       "      <td>1.000000</td>\n",
       "      <td>0.633504</td>\n",
       "      <td>-0.544331</td>\n",
       "      <td>0.272166</td>\n",
       "      <td>-0.544331</td>\n",
       "    </tr>\n",
       "    <tr>\n",
       "      <th>23</th>\n",
       "      <td>0.633504</td>\n",
       "      <td>1.000000</td>\n",
       "      <td>-0.493742</td>\n",
       "      <td>0.916949</td>\n",
       "      <td>-0.493742</td>\n",
       "    </tr>\n",
       "    <tr>\n",
       "      <th>24</th>\n",
       "      <td>-0.544331</td>\n",
       "      <td>-0.493742</td>\n",
       "      <td>1.000000</td>\n",
       "      <td>-0.333333</td>\n",
       "      <td>-0.333333</td>\n",
       "    </tr>\n",
       "    <tr>\n",
       "      <th>34</th>\n",
       "      <td>0.272166</td>\n",
       "      <td>0.916949</td>\n",
       "      <td>-0.333333</td>\n",
       "      <td>1.000000</td>\n",
       "      <td>-0.333333</td>\n",
       "    </tr>\n",
       "    <tr>\n",
       "      <th>54</th>\n",
       "      <td>-0.544331</td>\n",
       "      <td>-0.493742</td>\n",
       "      <td>-0.333333</td>\n",
       "      <td>-0.333333</td>\n",
       "      <td>1.000000</td>\n",
       "    </tr>\n",
       "  </tbody>\n",
       "</table>\n",
       "</div>"
      ],
      "text/plain": [
       "movie_id        21        23        24        34        54\n",
       "movie_id                                                  \n",
       "21        1.000000  0.633504 -0.544331  0.272166 -0.544331\n",
       "23        0.633504  1.000000 -0.493742  0.916949 -0.493742\n",
       "24       -0.544331 -0.493742  1.000000 -0.333333 -0.333333\n",
       "34        0.272166  0.916949 -0.333333  1.000000 -0.333333\n",
       "54       -0.544331 -0.493742 -0.333333 -0.333333  1.000000"
      ]
     },
     "execution_count": 10,
     "metadata": {},
     "output_type": "execute_result"
    }
   ],
   "source": [
    "corrMatrix = user_rating_df.corr(method='pearson')\n",
    "print('Shape:', corrMatrix.shape)\n",
    "corrMatrix.head()"
   ]
  },
  {
   "cell_type": "markdown",
   "id": "75522452-7899-4666-8473-6f486af10a09",
   "metadata": {},
   "source": [
    "### Let's Make Recommendations\n",
    "- score less than 3 is Dislike, so move that movie to down(that why use -2.5)\n",
    "- score 3, 4 or 5 is Like, so show that movie to top"
   ]
  },
  {
   "cell_type": "code",
   "execution_count": 11,
   "id": "f1e2d433-1f62-4a39-95e6-faabd800b933",
   "metadata": {},
   "outputs": [],
   "source": [
    "def get_similar_movie(movie_id, rating_score):\n",
    "    similar_ratings = corrMatrix[movie_id] * (rating_score-2.5) \n",
    "    similar_ratings = similar_ratings.sort_values(ascending=False) # Order score DESC\n",
    "    #print(type(similar_ratings))\n",
    "    return similar_ratings"
   ]
  },
  {
   "cell_type": "markdown",
   "id": "9b54a86e-9a13-4262-b06b-c240ed820c44",
   "metadata": {},
   "source": [
    "### Let's test rating movie here"
   ]
  },
  {
   "cell_type": "code",
   "execution_count": 12,
   "id": "8c3eb248-c2a1-4da2-a283-233218e1ec76",
   "metadata": {},
   "outputs": [
    {
     "name": "stdout",
     "output_type": "stream",
     "text": [
      "Result Recommendation Movie:\n"
     ]
    },
    {
     "name": "stderr",
     "output_type": "stream",
     "text": [
      "C:\\Users\\khaing\\AppData\\Local\\Temp\\ipykernel_1572\\645064194.py:8: FutureWarning: The frame.append method is deprecated and will be removed from pandas in a future version. Use pandas.concat instead.\n",
      "  similar_movies = similar_movies.append(get_similar_movie(movie, rating), ignore_index=True)\n"
     ]
    },
    {
     "data": {
      "text/html": [
       "<div>\n",
       "<style scoped>\n",
       "    .dataframe tbody tr th:only-of-type {\n",
       "        vertical-align: middle;\n",
       "    }\n",
       "\n",
       "    .dataframe tbody tr th {\n",
       "        vertical-align: top;\n",
       "    }\n",
       "\n",
       "    .dataframe thead th {\n",
       "        text-align: right;\n",
       "    }\n",
       "</style>\n",
       "<table border=\"1\" class=\"dataframe\">\n",
       "  <thead>\n",
       "    <tr style=\"text-align: right;\">\n",
       "      <th>movie_id</th>\n",
       "      <th>24</th>\n",
       "      <th>54</th>\n",
       "      <th>34</th>\n",
       "      <th>23</th>\n",
       "      <th>21</th>\n",
       "    </tr>\n",
       "  </thead>\n",
       "  <tbody>\n",
       "    <tr>\n",
       "      <th>0</th>\n",
       "      <td>0.272166</td>\n",
       "      <td>0.272166</td>\n",
       "      <td>-0.136083</td>\n",
       "      <td>-0.316752</td>\n",
       "      <td>-0.5</td>\n",
       "    </tr>\n",
       "  </tbody>\n",
       "</table>\n",
       "</div>"
      ],
      "text/plain": [
       "movie_id        24        54        34        23   21\n",
       "0         0.272166  0.272166 -0.136083 -0.316752 -0.5"
      ]
     },
     "execution_count": 12,
     "metadata": {},
     "output_type": "execute_result"
    }
   ],
   "source": [
    "# rating_movie = [(movie_id, rating_scor)]\n",
    "my_rating_movie = [\n",
    "    (21, 2),\n",
    "]\n",
    "\n",
    "similar_movies = pd.DataFrame()\n",
    "for movie,rating in my_rating_movie:\n",
    "    similar_movies = similar_movies.append(get_similar_movie(movie, rating), ignore_index=True)\n",
    "\n",
    "print(\"Result Recommendation Movie:\")\n",
    "similar_movies.head(10) # show limit 10 rows"
   ]
  },
  {
   "cell_type": "markdown",
   "id": "864e05a2-78c3-46ca-a152-dfbd932835ff",
   "metadata": {},
   "source": [
    "### Sum result similar movie"
   ]
  },
  {
   "cell_type": "code",
   "execution_count": 13,
   "id": "9144c98a-32c8-4f57-91ea-7b41ac1305a5",
   "metadata": {},
   "outputs": [
    {
     "data": {
      "text/plain": [
       "movie_id\n",
       "24    0.272166\n",
       "54    0.272166\n",
       "34   -0.136083\n",
       "23   -0.316752\n",
       "21   -0.500000\n",
       "dtype: float64"
      ]
     },
     "execution_count": 13,
     "metadata": {},
     "output_type": "execute_result"
    }
   ],
   "source": [
    "similar_movies.sum().sort_values(ascending=False).head(20)"
   ]
  },
  {
   "cell_type": "code",
   "execution_count": null,
   "id": "4e55922c-aa2e-4d17-b288-569d18f2b2d1",
   "metadata": {},
   "outputs": [],
   "source": []
  }
 ],
 "metadata": {
  "kernelspec": {
   "display_name": "Python 3 (ipykernel)",
   "language": "python",
   "name": "python3"
  },
  "language_info": {
   "codemirror_mode": {
    "name": "ipython",
    "version": 3
   },
   "file_extension": ".py",
   "mimetype": "text/x-python",
   "name": "python",
   "nbconvert_exporter": "python",
   "pygments_lexer": "ipython3",
   "version": "3.10.4"
  }
 },
 "nbformat": 4,
 "nbformat_minor": 5
}
